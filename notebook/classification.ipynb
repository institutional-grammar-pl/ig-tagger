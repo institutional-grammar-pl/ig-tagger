{
 "cells": [
  {
   "cell_type": "markdown",
   "id": "recorded-bones",
   "metadata": {},
   "source": [
    "## Statement Type Classifier\n",
    "\n",
    "Training classifier to predict if statement is regulative or constitutive."
   ]
  },
  {
   "cell_type": "code",
   "execution_count": 1,
   "id": "isolated-drive",
   "metadata": {},
   "outputs": [],
   "source": [
    "import pandas as pd\n",
    "\n",
    "from pathlib import Path\n",
    "from sklearn.feature_extraction.text import TfidfVectorizer\n",
    "from sklearn.ensemble import RandomForestClassifier\n",
    "from sklearn.model_selection import train_test_split\n",
    "from sklearn.pipeline import Pipeline\n",
    "\n",
    "PATH_DATA = Path(\"../data/tagger_evaluation\")\n",
    "\n",
    "df = pd.read_excel(PATH_DATA.joinpath(\"annotated_data.xlsx\"), header=1)\n",
    "df = df.loc[(df['IG syntax (regulative, constitutive)'].isin([\"regulative\", \"constitutive\"])) & (~df[\"Statement\"].isna()), :]"
   ]
  },
  {
   "cell_type": "code",
   "execution_count": 2,
   "id": "protective-declaration",
   "metadata": {},
   "outputs": [],
   "source": [
    "X = df['Statement']\n",
    "y = (df['IG syntax (regulative, constitutive)'] == \"regulative\").astype(int)"
   ]
  },
  {
   "cell_type": "code",
   "execution_count": 3,
   "id": "naked-advance",
   "metadata": {},
   "outputs": [],
   "source": [
    "# split dataset\n",
    "X_train, X_test, y_train, y_test = train_test_split(X, y)"
   ]
  },
  {
   "cell_type": "code",
   "execution_count": 5,
   "id": "second-optimum",
   "metadata": {},
   "outputs": [
    {
     "data": {
      "text/plain": [
       "Pipeline(steps=[('vectorizer', TfidfVectorizer(max_features=50)),\n",
       "                ('rf', RandomForestClassifier())])"
      ]
     },
     "execution_count": 5,
     "metadata": {},
     "output_type": "execute_result"
    }
   ],
   "source": [
    "# classification pipeline\n",
    "cl = Pipeline([\n",
    "    (\"vectorizer\", TfidfVectorizer(max_features=50)),\n",
    "    ('rf', RandomForestClassifier())\n",
    "])\n",
    "cl.fit(X_train, y_train)"
   ]
  },
  {
   "cell_type": "code",
   "execution_count": 175,
   "id": "congressional-prefix",
   "metadata": {},
   "outputs": [],
   "source": [
    "from sklearn.metrics import classification_report, roc_auc_score, accuracy_score, f1_score\n",
    "\n",
    "y_test_pred = cl.predict(X_test)\n",
    "y_train_pred = cl.predict(X_train)"
   ]
  },
  {
   "cell_type": "code",
   "execution_count": 176,
   "id": "annoying-cargo",
   "metadata": {},
   "outputs": [
    {
     "name": "stdout",
     "output_type": "stream",
     "text": [
      "TRAIN:\n",
      "AUC: 1.0,\n",
      "ACC: 1.0,\n",
      "F1: 1.0\n",
      "TEST:\n",
      "AUC: 0.9374999999999999,\n",
      "ACC: 0.9523809523809523,\n",
      "F1: 0.9259259259259259\n"
     ]
    }
   ],
   "source": [
    "print(f\"TRAIN:\\nAUC: {roc_auc_score(y_train, y_train_pred)},\\nACC: {accuracy_score(y_train, y_train_pred)},\\nF1: {f1_score(y_train, y_train_pred)}\")\n",
    "print(f\"TEST:\\nAUC: {roc_auc_score(y_test, y_test_pred)},\\nACC: {accuracy_score(y_test, y_test_pred)},\\nF1: {f1_score(y_test, y_test_pred)}\")"
   ]
  }
 ],
 "metadata": {
  "kernelspec": {
   "display_name": "Python (trada tagger)",
   "language": "python",
   "name": ".env"
  },
  "language_info": {
   "codemirror_mode": {
    "name": "ipython",
    "version": 3
   },
   "file_extension": ".py",
   "mimetype": "text/x-python",
   "name": "python",
   "nbconvert_exporter": "python",
   "pygments_lexer": "ipython3",
   "version": "3.8.5"
  },
  "toc": {
   "base_numbering": 1,
   "nav_menu": {},
   "number_sections": true,
   "sideBar": true,
   "skip_h1_title": false,
   "title_cell": "Table of Contents",
   "title_sidebar": "Contents",
   "toc_cell": false,
   "toc_position": {},
   "toc_section_display": true,
   "toc_window_display": false
  }
 },
 "nbformat": 4,
 "nbformat_minor": 5
}
