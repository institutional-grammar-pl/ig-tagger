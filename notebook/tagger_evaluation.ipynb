{
 "cells": [
  {
   "cell_type": "markdown",
   "id": "identical-submission",
   "metadata": {},
   "source": [
    "### Prediction\n",
    "\n",
    "#### Preparation of sentences for prediction"
   ]
  },
  {
   "cell_type": "code",
   "execution_count": 1,
   "id": "mexican-growth",
   "metadata": {},
   "outputs": [],
   "source": [
    "import pandas as pd\n",
    "from pathlib import Path\n",
    "\n",
    "PATH_DATA = Path(\"../data/tagger_evaluation\")\n",
    "\n",
    "gold_standard = pd.read_excel(PATH_DATA.joinpath(\"annotated_data.xlsx\"), header=1)"
   ]
  },
  {
   "cell_type": "code",
   "execution_count": 2,
   "id": "utility-cycling",
   "metadata": {},
   "outputs": [],
   "source": [
    "statements_regulative = gold_standard.loc[(gold_standard['IG syntax (regulative, constitutive)'] == \"regulative\") & (~gold_standard[\"Statement\"].isna()), \"Statement\"]\n",
    "statements_constitutive = gold_standard.loc[(gold_standard['IG syntax (regulative, constitutive)'] == \"constitutive\") & (~gold_standard[\"Statement\"].isna()), \"Statement\"]"
   ]
  },
  {
   "cell_type": "code",
   "execution_count": 40,
   "id": "flush-indicator",
   "metadata": {},
   "outputs": [],
   "source": [
    "with open(PATH_DATA.joinpath(\"statements_regulative.txt\"), \"w\") as f:\n",
    "    for x in statements_regulative:\n",
    "        f.write(str(x) + \"\\n\\n\")\n",
    "        \n",
    "with open(PATH_DATA.joinpath(\"statements_constitutive.txt\"), \"w\") as f:\n",
    "    for x in statements_constitutive:\n",
    "        f.write(str(x) + \"\\n\\n\")"
   ]
  },
  {
   "cell_type": "markdown",
   "id": "minor-killer",
   "metadata": {},
   "source": [
    "#### Prediction"
   ]
  },
  {
   "cell_type": "code",
   "execution_count": 41,
   "id": "superb-petroleum",
   "metadata": {},
   "outputs": [],
   "source": [
    "#!python ../ig_annotator.py ../data/tagger_evaluation/statements.txt ../data/tagger_evaluation/prediction.tsv en tsv"
   ]
  },
  {
   "cell_type": "markdown",
   "id": "endangered-subject",
   "metadata": {},
   "source": [
    "### Evaluation of IG Tagger"
   ]
  },
  {
   "cell_type": "code",
   "execution_count": 1,
   "id": "affiliated-authority",
   "metadata": {},
   "outputs": [],
   "source": [
    "%load_ext autoreload\n",
    "%autoreload 2\n",
    "\n",
    "import pandas as pd\n",
    "\n",
    "from pathlib import Path\n",
    "from sklearn import metrics\n",
    "\n",
    "from utils import load_gs, write_gs, load_evaluation_data\n",
    "\n",
    "\n",
    "PATH_DATA = Path(\"../data/tagger_evaluation\")\n",
    "\n",
    "gold_standard = pd.read_excel(PATH_DATA.joinpath(\"annotated_data.xlsx\"), header=1)"
   ]
  },
  {
   "cell_type": "markdown",
   "id": "thrown-purse",
   "metadata": {},
   "source": [
    "##### Constitutive"
   ]
  },
  {
   "cell_type": "code",
   "execution_count": 3,
   "id": "veterinary-telescope",
   "metadata": {},
   "outputs": [
    {
     "name": "stdout",
     "output_type": "stream",
     "text": [
      "                             precision    recall  f1-score   support\n",
      "\n",
      "                                  0.29      0.24      0.26       566\n",
      "                (C) Context       0.01      0.02      0.02       205\n",
      "     (E) Constituted Entity       0.38      0.44      0.41       382\n",
      "  (F) Constitutive Function       0.46      0.74      0.57        85\n",
      "                  (M) Modal       0.97      0.82      0.89        40\n",
      "(P) Constituting Properties       0.57      0.52      0.54      1217\n",
      "\n",
      "                   accuracy                           0.42      2495\n",
      "                  macro avg       0.45      0.46      0.45      2495\n",
      "               weighted avg       0.43      0.42      0.42      2495\n",
      "\n"
     ]
    }
   ],
   "source": [
    "gold_standard_const = gold_standard.loc[(gold_standard['IG syntax (regulative, constitutive)'] == \"constitutive\") & (~gold_standard[\"Statement\"].isna()), :].reset_index()\n",
    "gs = load_gs(gold_standard_const)\n",
    "write_gs(\"prediction_constitutive\", PATH_DATA, gs)\n",
    "preds, golds = load_evaluation_data(\"prediction_constitutive_gs.tsv\", PATH_DATA)\n",
    "\n",
    "\n",
    "from sklearn import metrics\n",
    "print(metrics.classification_report(golds, preds))"
   ]
  },
  {
   "cell_type": "markdown",
   "id": "tired-africa",
   "metadata": {},
   "source": [
    "##### Regulative"
   ]
  },
  {
   "cell_type": "code",
   "execution_count": 5,
   "id": "speaking-archive",
   "metadata": {},
   "outputs": [
    {
     "name": "stdout",
     "output_type": "stream",
     "text": [
      "               precision    recall  f1-score   support\n",
      "\n",
      "                    0.17      0.08      0.11       264\n",
      "(A) Attribute       0.83      0.66      0.74       171\n",
      "   (B) Object       0.69      0.45      0.54       619\n",
      "  (C) Context       0.44      0.82      0.57       481\n",
      "  (D) Deontic       0.94      0.92      0.93        36\n",
      "      (I) Aim       0.93      0.76      0.84       151\n",
      "\n",
      "     accuracy                           0.55      1722\n",
      "    macro avg       0.67      0.61      0.62      1722\n",
      " weighted avg       0.58      0.55      0.54      1722\n",
      "\n"
     ]
    }
   ],
   "source": [
    "gold_standard_reg = gold_standard.loc[(gold_standard['IG syntax (regulative, constitutive)'] == \"regulative\") & (~gold_standard[\"Statement\"].isna()), :].reset_index()\n",
    "gs = load_gs(gold_standard_reg)\n",
    "write_gs(\"prediction_regulative\", PATH_DATA, gs)\n",
    "preds, golds = load_evaluation_data(\"prediction_regulative_gs.tsv\", PATH_DATA)\n",
    "\n",
    "\n",
    "from sklearn import metrics\n",
    "print(metrics.classification_report(golds, preds))"
   ]
  }
 ],
 "metadata": {
  "kernelspec": {
   "display_name": "Python (trada tagger)",
   "language": "python",
   "name": ".env"
  },
  "language_info": {
   "codemirror_mode": {
    "name": "ipython",
    "version": 3
   },
   "file_extension": ".py",
   "mimetype": "text/x-python",
   "name": "python",
   "nbconvert_exporter": "python",
   "pygments_lexer": "ipython3",
   "version": "3.8.5"
  },
  "toc": {
   "base_numbering": 1,
   "nav_menu": {},
   "number_sections": true,
   "sideBar": true,
   "skip_h1_title": false,
   "title_cell": "Table of Contents",
   "title_sidebar": "Contents",
   "toc_cell": false,
   "toc_position": {},
   "toc_section_display": true,
   "toc_window_display": false
  }
 },
 "nbformat": 4,
 "nbformat_minor": 5
}
