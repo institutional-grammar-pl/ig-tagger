{
 "cells": [
  {
   "cell_type": "code",
   "execution_count": 46,
   "metadata": {},
   "outputs": [],
   "source": [
    "from igannotator.rulesexecutor.rules import IGTag\n",
    "import numpy as np"
   ]
  },
  {
   "cell_type": "code",
   "execution_count": 54,
   "metadata": {},
   "outputs": [],
   "source": [
    "x = [IGTag(words=[(24, 'secure')],\n",
    "tag_name=IGElement(1), tag_id=None), IGTag(words=[(23, 'may')],\n",
    "tag_name=IGElement(8), tag_id=None), IGTag(words=[(1, 'Employees')],\n",
    "tag_name=IGElement(2), tag_id=148), IGTag(words=[(2, 'who')],\n",
    "tag_name=IGElement(3), tag_id=148), IGTag(words=[(3, 'work')],\n",
    "tag_name=IGElement(3), tag_id=148), IGTag(words=[(4, 'under')],\n",
    "tag_name=IGElement(3), tag_id=148), IGTag(words=[(5, 'a')],\n",
    "tag_name=IGElement(3), tag_id=148), IGTag(words=[(6, 'multiemployer')],\n",
    "tag_name=IGElement(3), tag_id=148), IGTag(words=[(7, 'collective')],\n",
    "tag_name=IGElement(3), tag_id=148), IGTag(words=[(8, 'bargaining')],\n",
    "tag_name=IGElement(3), tag_id=148), IGTag(words=[(9, 'agreement')],\n",
    "tag_name=IGElement(3), tag_id=148), IGTag(words=[(10, 'into')],\n",
    "tag_name=IGElement(3), tag_id=148), IGTag(words=[(11, 'which')],\n",
    "tag_name=IGElement(3), tag_id=148), IGTag(words=[(12, 'their')],\n",
    "tag_name=IGElement(3), tag_id=148), IGTag(words=[(13, 'employers')],\n",
    "tag_name=IGElement(3), tag_id=148), IGTag(words=[(14, 'make')],\n",
    "tag_name=IGElement(3), tag_id=148), IGTag(words=[(15, 'contributions')],\n",
    "tag_name=IGElement(3), tag_id=148), IGTag(words=[(16, 'as')],\n",
    "tag_name=IGElement(3), tag_id=148), IGTag(words=[(17, 'provided')],\n",
    "tag_name=IGElement(3), tag_id=148), IGTag(words=[(18, 'in')],\n",
    "tag_name=IGElement(3), tag_id=148), IGTag(words=[(19, 'subsection')],\n",
    "tag_name=IGElement(3), tag_id=148), IGTag(words=[(26, 'from'), (27, 'such'), (28, 'fund'), (29, ','), (30, 'plan'), (31, ','), (32, 'or'), (33, 'program')],\n",
    "tag_name=IGElement(16), tag_id=152), IGTag(words=[(34, 'based'), (35, 'on'), (36, 'hours'), (37, 'they'), (38, 'have'), (39, 'worked'), (40, 'under'), (41, 'the'), (42, 'multiemployer'), (43, 'collective'), (44, 'bargaining'), (45, 'agreement'), (46, 'for'), (47, 'the'), (48, 'uses'), (49, 'specified'), (50, 'in'), (51, 'section'), (52, '5102'), (53, '('), (54, 'a'), (55, ')'), (56, '.')],\n",
    "tag_name=IGElement(16), tag_id=153)]\n"
   ]
  },
  {
   "cell_type": "code",
   "execution_count": 49,
   "metadata": {},
   "outputs": [
    {
     "data": {
      "text/plain": [
       "array([148, 152, 153])"
      ]
     },
     "execution_count": 49,
     "metadata": {},
     "output_type": "execute_result"
    }
   ],
   "source": [
    "np.unique([elem.tag_id for elem in x if elem.tag_id is not None])"
   ]
  },
  {
   "cell_type": "code",
   "execution_count": 57,
   "metadata": {},
   "outputs": [
    {
     "data": {
      "text/plain": [
       "<IGElement.AIM: 1>"
      ]
     },
     "execution_count": 57,
     "metadata": {},
     "output_type": "execute_result"
    }
   ],
   "source": [
    "x [0].tag_name"
   ]
  },
  {
   "cell_type": "code",
   "execution_count": 51,
   "metadata": {},
   "outputs": [],
   "source": [
    "x.append(1)"
   ]
  },
  {
   "cell_type": "code",
   "execution_count": 52,
   "metadata": {},
   "outputs": [],
   "source": [
    "x.append([2,3])"
   ]
  },
  {
   "cell_type": "code",
   "execution_count": 53,
   "metadata": {},
   "outputs": [
    {
     "data": {
      "text/plain": [
       "[1, [2, 3]]"
      ]
     },
     "execution_count": 53,
     "metadata": {},
     "output_type": "execute_result"
    }
   ],
   "source": [
    "x"
   ]
  },
  {
   "cell_type": "code",
   "execution_count": 58,
   "metadata": {},
   "outputs": [],
   "source": [
    "x = [1,2,3]"
   ]
  },
  {
   "cell_type": "code",
   "execution_count": 59,
   "metadata": {},
   "outputs": [],
   "source": [
    "for i in x:\n",
    "    i += 1"
   ]
  },
  {
   "cell_type": "code",
   "execution_count": 60,
   "metadata": {},
   "outputs": [
    {
     "data": {
      "text/plain": [
       "[1, 2, 3]"
      ]
     },
     "execution_count": 60,
     "metadata": {},
     "output_type": "execute_result"
    }
   ],
   "source": [
    "x"
   ]
  },
  {
   "cell_type": "code",
   "execution_count": null,
   "metadata": {},
   "outputs": [],
   "source": []
  }
 ],
 "metadata": {
  "kernelspec": {
   "display_name": "Python 3",
   "language": "python",
   "name": "python3"
  },
  "language_info": {
   "codemirror_mode": {
    "name": "ipython",
    "version": 3
   },
   "file_extension": ".py",
   "mimetype": "text/x-python",
   "name": "python",
   "nbconvert_exporter": "python",
   "pygments_lexer": "ipython3",
   "version": "3.8.5"
  }
 },
 "nbformat": 4,
 "nbformat_minor": 4
}
